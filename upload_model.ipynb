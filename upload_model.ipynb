{
 "cells": [
  {
   "cell_type": "code",
   "execution_count": 1,
   "metadata": {},
   "outputs": [],
   "source": [
    "import os\n",
    "from utilities import files_utils\n",
    "import logging\n",
    "import boto3\n",
    "from botocore.exceptions import ClientError"
   ]
  },
  {
   "cell_type": "code",
   "execution_count": 26,
   "metadata": {},
   "outputs": [],
   "source": [
    "# Localhost\n",
    "directory = \"./models/distilBERT/prod\"\n",
    "compressed = \"./models/distilBERT/prod.tar.gz\"\n",
    "# S3\n",
    "bucket_name = \"sereniiti-inference\"\n",
    "object_name = \"distilBERT\""
   ]
  },
  {
   "cell_type": "code",
   "execution_count": 27,
   "metadata": {},
   "outputs": [],
   "source": [
    "files_utils.make_tarfile(compressed,directory)"
   ]
  },
  {
   "cell_type": "code",
   "execution_count": 24,
   "metadata": {},
   "outputs": [],
   "source": [
    "s3 = boto3.client('s3')\n",
    "with open(compressed, \"rb\") as f:\n",
    "    s3.upload_fileobj(f, bucket_name, object_name)"
   ]
  },
  {
   "cell_type": "code",
   "execution_count": 28,
   "metadata": {},
   "outputs": [],
   "source": [
    "s3 = boto3.client('s3')\n",
    "s3.download_file('sereniiti-inference', 'distilBERT', 'distilBERT.tar.gz')"
   ]
  },
  {
   "cell_type": "code",
   "execution_count": 4,
   "metadata": {},
   "outputs": [],
   "source": [
    "files_utils.unpack_tarfile(\"distilBERT.tar.gz\",\"./\")\n",
    "os.remove(\"distilBERT.tar.gz\")"
   ]
  }
 ],
 "metadata": {
  "interpreter": {
   "hash": "b2746d9c64e29f9893c214eba62327777aca31528b4dbe079e4edbeaaba40eb2"
  },
  "kernelspec": {
   "display_name": "Python 3.9.7 64-bit ('bert': conda)",
   "language": "python",
   "name": "python3"
  },
  "language_info": {
   "codemirror_mode": {
    "name": "ipython",
    "version": 3
   },
   "file_extension": ".py",
   "mimetype": "text/x-python",
   "name": "python",
   "nbconvert_exporter": "python",
   "pygments_lexer": "ipython3",
   "version": "3.9.7"
  },
  "orig_nbformat": 4
 },
 "nbformat": 4,
 "nbformat_minor": 2
}
