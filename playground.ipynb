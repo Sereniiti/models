{
 "cells": [
  {
   "cell_type": "code",
   "execution_count": 1,
   "metadata": {},
   "outputs": [
    {
     "name": "stderr",
     "output_type": "stream",
     "text": [
      "[nltk_data] Downloading package punkt to\n",
      "[nltk_data]     C:\\Users\\thiba\\AppData\\Roaming\\nltk_data...\n",
      "[nltk_data]   Package punkt is already up-to-date!\n"
     ]
    }
   ],
   "source": [
    "from DistilBERT import inference\n",
    "from utilities import text_utils\n"
   ]
  },
  {
   "cell_type": "code",
   "execution_count": 2,
   "metadata": {},
   "outputs": [],
   "source": [
    "sentences = [\n",
    "  \"You are such a bad guy\",\n",
    "  \"I feel very good with you\",\n",
    "  \"Yesterday I was eating breakfast\",\n",
    "  \"There is not such thing as a miracle, you are just being foolled and being blind to it\"\n",
    "  ]\n",
    "\n",
    "text = \"You are such a bad guy. I feel very good with you. Yesterday I was eating breakfast. There is not such thing as a miracle, you are just being foolled and being blind to it.\"\n",
    "\n",
    "text2 = \"Text messages are used for personal, family, business and social purposes. Governmental and non-governmental organizations use text messaging for communication between colleagues. In the 2010s, the sending of short informal messages became an accepted part of many cultures, as happened earlier with emailing.[1] This makes texting a quick and easy way to communicate with friends, family and colleagues, including in contexts where a call would be impolite or inappropriate (e.g., calling very late at night or when one knows the other person is busy with family or work activities). Like e-mail and voicemail and unlike calls (in which the caller hopes to speak directly with the recipient), texting does not require the caller and recipient to both be free at the same moment; this permits communication even between busy individuals. Text messages can also be used to interact with automated systems, for example, to order products or services from e-commerce websites, or to participate in online contests. Advertisers and service providers use direct text marketing to send messages to mobile users about promotions, payment due dates, and other notifications instead of using postal mail, email, or voicemail.\"\n",
    "\n",
    "text3 = \"A sentence. A second sentence. A third sentence witout a final dot\"\n"
   ]
  },
  {
   "cell_type": "code",
   "execution_count": 3,
   "metadata": {},
   "outputs": [
    {
     "data": {
      "text/plain": [
       "['A sentence.', 'A second sentence.', 'A third sentence witout a final dot']"
      ]
     },
     "execution_count": 3,
     "metadata": {},
     "output_type": "execute_result"
    }
   ],
   "source": [
    "text_utils.NLTK_sentence_split(text3)"
   ]
  },
  {
   "cell_type": "code",
   "execution_count": null,
   "metadata": {},
   "outputs": [],
   "source": [
    "inference.download_BERT()"
   ]
  },
  {
   "cell_type": "code",
   "execution_count": 4,
   "metadata": {},
   "outputs": [
    {
     "data": {
      "text/plain": [
       "{'Y1': <tf.Tensor: shape=(4, 4), dtype=float32, numpy=\n",
       " array([[1., 1., 1., 1.],\n",
       "        [1., 1., 1., 1.],\n",
       "        [1., 1., 1., 1.],\n",
       "        [1., 1., 1., 1.]], dtype=float32)>,\n",
       " 'Y2': <tf.Tensor: shape=(4, 16), dtype=float32, numpy=\n",
       " array([[1.        , 1.        , 1.        , 1.        , 1.        ,\n",
       "         1.        , 1.        , 1.        , 1.        , 0.9130386 ,\n",
       "         1.        , 1.        , 1.        , 0.9939713 , 1.        ,\n",
       "         1.        ],\n",
       "        [1.        , 1.        , 1.        , 1.        , 1.        ,\n",
       "         1.        , 1.        , 1.        , 1.        , 0.9621668 ,\n",
       "         1.        , 1.        , 1.        , 0.99688584, 1.        ,\n",
       "         1.        ],\n",
       "        [1.        , 1.        , 1.        , 1.        , 1.        ,\n",
       "         1.        , 1.        , 1.        , 1.        , 0.96967745,\n",
       "         1.        , 1.        , 1.        , 0.99915135, 1.        ,\n",
       "         1.        ],\n",
       "        [1.        , 1.        , 1.        , 1.        , 1.        ,\n",
       "         1.        , 1.        , 1.        , 1.        , 0.95346665,\n",
       "         1.        , 1.        , 1.        , 0.997874  , 1.        ,\n",
       "         1.        ]], dtype=float32)>,\n",
       " 'Y3': <tf.Tensor: shape=(4, 1), dtype=float32, numpy=\n",
       " array([[-0.02315876],\n",
       "        [ 0.79313636],\n",
       "        [ 0.96638864],\n",
       "        [ 0.04439714]], dtype=float32)>}"
      ]
     },
     "execution_count": 4,
     "metadata": {},
     "output_type": "execute_result"
    }
   ],
   "source": [
    "inference.distilbert_inference(sentences)"
   ]
  },
  {
   "cell_type": "code",
   "execution_count": null,
   "metadata": {},
   "outputs": [],
   "source": []
  },
  {
   "cell_type": "code",
   "execution_count": null,
   "metadata": {},
   "outputs": [],
   "source": [
    "\n"
   ]
  }
 ],
 "metadata": {
  "interpreter": {
   "hash": "b2746d9c64e29f9893c214eba62327777aca31528b4dbe079e4edbeaaba40eb2"
  },
  "kernelspec": {
   "display_name": "Python 3.9.7 64-bit ('bert': conda)",
   "language": "python",
   "name": "python3"
  },
  "language_info": {
   "codemirror_mode": {
    "name": "ipython",
    "version": 3
   },
   "file_extension": ".py",
   "mimetype": "text/x-python",
   "name": "python",
   "nbconvert_exporter": "python",
   "pygments_lexer": "ipython3",
   "version": "3.9.7"
  },
  "orig_nbformat": 4
 },
 "nbformat": 4,
 "nbformat_minor": 2
}
