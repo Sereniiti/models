{
 "cells": [
  {
   "cell_type": "code",
   "execution_count": 1,
   "metadata": {},
   "outputs": [],
   "source": [
    "import Inference\n",
    "\n",
    "sentences = [\"You are such a bad guy\",\"I feel very good with you\",\"Yesterday I was eating breakfast\",\"There is not such thing as a miracle, you are just being foolled and being blind to it\"]\n"
   ]
  },
  {
   "cell_type": "code",
   "execution_count": 2,
   "metadata": {},
   "outputs": [
    {
     "data": {
      "text/plain": [
       "{'Y1': <tf.Tensor: shape=(4, 4), dtype=float32, numpy=\n",
       " array([[1., 1., 1., 1.],\n",
       "        [1., 1., 1., 1.],\n",
       "        [1., 1., 1., 1.],\n",
       "        [1., 1., 1., 1.]], dtype=float32)>,\n",
       " 'Y2': <tf.Tensor: shape=(4, 16), dtype=float32, numpy=\n",
       " array([[1.        , 1.        , 1.        , 1.        , 1.        ,\n",
       "         1.        , 1.        , 1.        , 1.        , 0.9130386 ,\n",
       "         1.        , 1.        , 1.        , 0.9939713 , 1.        ,\n",
       "         1.        ],\n",
       "        [1.        , 1.        , 1.        , 1.        , 1.        ,\n",
       "         1.        , 1.        , 1.        , 1.        , 0.9621668 ,\n",
       "         1.        , 1.        , 1.        , 0.99688584, 1.        ,\n",
       "         1.        ],\n",
       "        [1.        , 1.        , 1.        , 1.        , 1.        ,\n",
       "         1.        , 1.        , 1.        , 1.        , 0.96967745,\n",
       "         1.        , 1.        , 1.        , 0.99915135, 1.        ,\n",
       "         1.        ],\n",
       "        [1.        , 1.        , 1.        , 1.        , 1.        ,\n",
       "         1.        , 1.        , 1.        , 1.        , 0.95346665,\n",
       "         1.        , 1.        , 1.        , 0.997874  , 1.        ,\n",
       "         1.        ]], dtype=float32)>,\n",
       " 'Y3': <tf.Tensor: shape=(4, 1), dtype=float32, numpy=\n",
       " array([[-0.02315876],\n",
       "        [ 0.79313636],\n",
       "        [ 0.96638864],\n",
       "        [ 0.04439714]], dtype=float32)>}"
      ]
     },
     "execution_count": 2,
     "metadata": {},
     "output_type": "execute_result"
    }
   ],
   "source": [
    "Inference.distilbert_inference(sentences)"
   ]
  }
 ],
 "metadata": {
  "interpreter": {
   "hash": "b2746d9c64e29f9893c214eba62327777aca31528b4dbe079e4edbeaaba40eb2"
  },
  "kernelspec": {
   "display_name": "Python 3.9.7 64-bit ('bert': conda)",
   "language": "python",
   "name": "python3"
  },
  "language_info": {
   "codemirror_mode": {
    "name": "ipython",
    "version": 3
   },
   "file_extension": ".py",
   "mimetype": "text/x-python",
   "name": "python",
   "nbconvert_exporter": "python",
   "pygments_lexer": "ipython3",
   "version": "3.9.7"
  },
  "orig_nbformat": 4
 },
 "nbformat": 4,
 "nbformat_minor": 2
}
