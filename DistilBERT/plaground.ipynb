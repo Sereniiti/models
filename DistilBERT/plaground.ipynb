{
 "cells": [
  {
   "cell_type": "code",
   "execution_count": 2,
   "metadata": {},
   "outputs": [],
   "source": [
    "import Inference\n",
    "\n",
    "sentences = [\"You are such a bad guy\",\"I feel very good with you\",\"Yesterday I was eating breakfast\",\"There is not such thing as a miracle, you are just being foolled and being blind to it\"]\n"
   ]
  },
  {
   "cell_type": "code",
   "execution_count": 4,
   "metadata": {},
   "outputs": [
    {
     "data": {
      "text/plain": [
       "{'Y1': <tf.Tensor: shape=(4, 4), dtype=float32, numpy=\n",
       " array([[1.       , 1.       , 0.9999267, 0.9999999],\n",
       "        [1.       , 1.       , 1.       , 0.9999981],\n",
       "        [1.       , 1.       , 1.       , 1.       ],\n",
       "        [1.       , 1.       , 0.9999933, 1.       ]], dtype=float32)>,\n",
       " 'Y2': <tf.Tensor: shape=(4, 16), dtype=float32, numpy=\n",
       " array([[0.9999968 , 0.99998856, 0.9987206 , 1.        , 0.9999994 ,\n",
       "         0.989606  , 0.9999976 , 0.20016673, 0.9999951 , 0.9999331 ,\n",
       "         1.        , 0.9999981 , 1.        , 0.99981457, 0.99995685,\n",
       "         0.68332064],\n",
       "        [1.        , 0.9999974 , 1.        , 0.99999964, 0.99797076,\n",
       "         0.99997735, 0.99994516, 0.04472988, 0.9999957 , 0.99991024,\n",
       "         0.9999733 , 1.        , 0.9999999 , 0.9984396 , 0.99999964,\n",
       "         0.0304011 ],\n",
       "        [0.9999999 , 0.9999958 , 0.9999999 , 0.99999964, 0.9999558 ,\n",
       "         0.99938977, 0.99999785, 0.25262198, 0.9999995 , 0.99977225,\n",
       "         0.999987  , 0.9999436 , 0.9999993 , 0.9942814 , 1.        ,\n",
       "         0.8040784 ],\n",
       "        [0.9999958 , 0.9999958 , 0.9980313 , 1.        , 0.9999999 ,\n",
       "         0.99306715, 0.9999995 , 0.13406429, 0.9999989 , 0.9999063 ,\n",
       "         1.        , 0.9999722 , 1.        , 0.99959487, 0.9999949 ,\n",
       "         0.73767173]], dtype=float32)>,\n",
       " 'Y3': <tf.Tensor: shape=(4, 1), dtype=float32, numpy=\n",
       " array([[0.20058286],\n",
       "        [0.8384254 ],\n",
       "        [1.0178735 ],\n",
       "        [0.37944227]], dtype=float32)>}"
      ]
     },
     "execution_count": 4,
     "metadata": {},
     "output_type": "execute_result"
    }
   ],
   "source": [
    "Inference.distilbert_inference(sentences)"
   ]
  }
 ],
 "metadata": {
  "interpreter": {
   "hash": "b2746d9c64e29f9893c214eba62327777aca31528b4dbe079e4edbeaaba40eb2"
  },
  "kernelspec": {
   "display_name": "Python 3.9.7 64-bit ('bert': conda)",
   "language": "python",
   "name": "python3"
  },
  "language_info": {
   "codemirror_mode": {
    "name": "ipython",
    "version": 3
   },
   "file_extension": ".py",
   "mimetype": "text/x-python",
   "name": "python",
   "nbconvert_exporter": "python",
   "pygments_lexer": "ipython3",
   "version": "3.9.7"
  },
  "orig_nbformat": 4
 },
 "nbformat": 4,
 "nbformat_minor": 2
}
